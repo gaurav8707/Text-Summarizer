{
  "nbformat": 4,
  "nbformat_minor": 0,
  "metadata": {
    "colab": {
      "provenance": []
    },
    "kernelspec": {
      "name": "python3",
      "display_name": "Python 3"
    },
    "language_info": {
      "name": "python"
    }
  },
  "cells": [
    {
      "cell_type": "code",
      "execution_count": 1,
      "metadata": {
        "colab": {
          "base_uri": "https://localhost:8080/"
        },
        "id": "_JyqfedRMWdF",
        "outputId": "7d5b405c-c34f-4e9e-dab4-85ea800a75a4"
      },
      "outputs": [
        {
          "output_type": "stream",
          "name": "stdout",
          "text": [
            "Looking in indexes: https://pypi.org/simple, https://us-python.pkg.dev/colab-wheels/public/simple/\n",
            "Requirement already satisfied: spacy in /usr/local/lib/python3.9/dist-packages (3.5.1)\n",
            "Requirement already satisfied: wasabi<1.2.0,>=0.9.1 in /usr/local/lib/python3.9/dist-packages (from spacy) (1.1.1)\n",
            "Requirement already satisfied: spacy-loggers<2.0.0,>=1.0.0 in /usr/local/lib/python3.9/dist-packages (from spacy) (1.0.4)\n",
            "Requirement already satisfied: murmurhash<1.1.0,>=0.28.0 in /usr/local/lib/python3.9/dist-packages (from spacy) (1.0.9)\n",
            "Requirement already satisfied: langcodes<4.0.0,>=3.2.0 in /usr/local/lib/python3.9/dist-packages (from spacy) (3.3.0)\n",
            "Requirement already satisfied: preshed<3.1.0,>=3.0.2 in /usr/local/lib/python3.9/dist-packages (from spacy) (3.0.8)\n",
            "Requirement already satisfied: spacy-legacy<3.1.0,>=3.0.11 in /usr/local/lib/python3.9/dist-packages (from spacy) (3.0.12)\n",
            "Requirement already satisfied: packaging>=20.0 in /usr/local/lib/python3.9/dist-packages (from spacy) (23.0)\n",
            "Requirement already satisfied: smart-open<7.0.0,>=5.2.1 in /usr/local/lib/python3.9/dist-packages (from spacy) (6.3.0)\n",
            "Requirement already satisfied: numpy>=1.15.0 in /usr/local/lib/python3.9/dist-packages (from spacy) (1.22.4)\n",
            "Requirement already satisfied: thinc<8.2.0,>=8.1.8 in /usr/local/lib/python3.9/dist-packages (from spacy) (8.1.9)\n",
            "Requirement already satisfied: cymem<2.1.0,>=2.0.2 in /usr/local/lib/python3.9/dist-packages (from spacy) (2.0.7)\n",
            "Requirement already satisfied: requests<3.0.0,>=2.13.0 in /usr/local/lib/python3.9/dist-packages (from spacy) (2.27.1)\n",
            "Requirement already satisfied: setuptools in /usr/local/lib/python3.9/dist-packages (from spacy) (67.6.0)\n",
            "Requirement already satisfied: pydantic!=1.8,!=1.8.1,<1.11.0,>=1.7.4 in /usr/local/lib/python3.9/dist-packages (from spacy) (1.10.7)\n",
            "Requirement already satisfied: srsly<3.0.0,>=2.4.3 in /usr/local/lib/python3.9/dist-packages (from spacy) (2.4.6)\n",
            "Requirement already satisfied: pathy>=0.10.0 in /usr/local/lib/python3.9/dist-packages (from spacy) (0.10.1)\n",
            "Requirement already satisfied: tqdm<5.0.0,>=4.38.0 in /usr/local/lib/python3.9/dist-packages (from spacy) (4.65.0)\n",
            "Requirement already satisfied: catalogue<2.1.0,>=2.0.6 in /usr/local/lib/python3.9/dist-packages (from spacy) (2.0.8)\n",
            "Requirement already satisfied: jinja2 in /usr/local/lib/python3.9/dist-packages (from spacy) (3.1.2)\n",
            "Requirement already satisfied: typer<0.8.0,>=0.3.0 in /usr/local/lib/python3.9/dist-packages (from spacy) (0.7.0)\n",
            "Requirement already satisfied: typing-extensions>=4.2.0 in /usr/local/lib/python3.9/dist-packages (from pydantic!=1.8,!=1.8.1,<1.11.0,>=1.7.4->spacy) (4.5.0)\n",
            "Requirement already satisfied: certifi>=2017.4.17 in /usr/local/lib/python3.9/dist-packages (from requests<3.0.0,>=2.13.0->spacy) (2022.12.7)\n",
            "Requirement already satisfied: charset-normalizer~=2.0.0 in /usr/local/lib/python3.9/dist-packages (from requests<3.0.0,>=2.13.0->spacy) (2.0.12)\n",
            "Requirement already satisfied: urllib3<1.27,>=1.21.1 in /usr/local/lib/python3.9/dist-packages (from requests<3.0.0,>=2.13.0->spacy) (1.26.15)\n",
            "Requirement already satisfied: idna<4,>=2.5 in /usr/local/lib/python3.9/dist-packages (from requests<3.0.0,>=2.13.0->spacy) (3.4)\n",
            "Requirement already satisfied: confection<1.0.0,>=0.0.1 in /usr/local/lib/python3.9/dist-packages (from thinc<8.2.0,>=8.1.8->spacy) (0.0.4)\n",
            "Requirement already satisfied: blis<0.8.0,>=0.7.8 in /usr/local/lib/python3.9/dist-packages (from thinc<8.2.0,>=8.1.8->spacy) (0.7.9)\n",
            "Requirement already satisfied: click<9.0.0,>=7.1.1 in /usr/local/lib/python3.9/dist-packages (from typer<0.8.0,>=0.3.0->spacy) (8.1.3)\n",
            "Requirement already satisfied: MarkupSafe>=2.0 in /usr/local/lib/python3.9/dist-packages (from jinja2->spacy) (2.1.2)\n",
            "/usr/local/lib/python3.9/dist-packages/torch/cuda/__init__.py:497: UserWarning: Can't initialize NVML\n",
            "  warnings.warn(\"Can't initialize NVML\")\n",
            "2023-03-26 08:32:16.720843: I tensorflow/core/platform/cpu_feature_guard.cc:193] This TensorFlow binary is optimized with oneAPI Deep Neural Network Library (oneDNN) to use the following CPU instructions in performance-critical operations:  AVX2 FMA\n",
            "To enable them in other operations, rebuild TensorFlow with the appropriate compiler flags.\n",
            "2023-03-26 08:32:20.190805: W tensorflow/compiler/xla/stream_executor/platform/default/dso_loader.cc:64] Could not load dynamic library 'libnvinfer.so.7'; dlerror: libnvinfer.so.7: cannot open shared object file: No such file or directory; LD_LIBRARY_PATH: /usr/local/nvidia/lib:/usr/local/nvidia/lib64\n",
            "2023-03-26 08:32:20.190984: W tensorflow/compiler/xla/stream_executor/platform/default/dso_loader.cc:64] Could not load dynamic library 'libnvinfer_plugin.so.7'; dlerror: libnvinfer_plugin.so.7: cannot open shared object file: No such file or directory; LD_LIBRARY_PATH: /usr/local/nvidia/lib:/usr/local/nvidia/lib64\n",
            "2023-03-26 08:32:20.191009: W tensorflow/compiler/tf2tensorrt/utils/py_utils.cc:38] TF-TRT Warning: Cannot dlopen some TensorRT libraries. If you would like to use Nvidia GPU with TensorRT, please make sure the missing libraries mentioned above are installed properly.\n",
            "2023-03-26 08:32:23.696043: E tensorflow/compiler/xla/stream_executor/cuda/cuda_driver.cc:267] failed call to cuInit: CUDA_ERROR_NO_DEVICE: no CUDA-capable device is detected\n",
            "Looking in indexes: https://pypi.org/simple, https://us-python.pkg.dev/colab-wheels/public/simple/\n",
            "Collecting en-core-web-sm==3.5.0\n",
            "  Downloading https://github.com/explosion/spacy-models/releases/download/en_core_web_sm-3.5.0/en_core_web_sm-3.5.0-py3-none-any.whl (12.8 MB)\n",
            "\u001b[2K     \u001b[90m━━━━━━━━━━━━━━━━━━━━━━━━━━━━━━━━━━━━━━━━\u001b[0m \u001b[32m12.8/12.8 MB\u001b[0m \u001b[31m69.7 MB/s\u001b[0m eta \u001b[36m0:00:00\u001b[0m\n",
            "\u001b[?25hRequirement already satisfied: spacy<3.6.0,>=3.5.0 in /usr/local/lib/python3.9/dist-packages (from en-core-web-sm==3.5.0) (3.5.1)\n",
            "Requirement already satisfied: spacy-loggers<2.0.0,>=1.0.0 in /usr/local/lib/python3.9/dist-packages (from spacy<3.6.0,>=3.5.0->en-core-web-sm==3.5.0) (1.0.4)\n",
            "Requirement already satisfied: pathy>=0.10.0 in /usr/local/lib/python3.9/dist-packages (from spacy<3.6.0,>=3.5.0->en-core-web-sm==3.5.0) (0.10.1)\n",
            "Requirement already satisfied: typer<0.8.0,>=0.3.0 in /usr/local/lib/python3.9/dist-packages (from spacy<3.6.0,>=3.5.0->en-core-web-sm==3.5.0) (0.7.0)\n",
            "Requirement already satisfied: preshed<3.1.0,>=3.0.2 in /usr/local/lib/python3.9/dist-packages (from spacy<3.6.0,>=3.5.0->en-core-web-sm==3.5.0) (3.0.8)\n",
            "Requirement already satisfied: pydantic!=1.8,!=1.8.1,<1.11.0,>=1.7.4 in /usr/local/lib/python3.9/dist-packages (from spacy<3.6.0,>=3.5.0->en-core-web-sm==3.5.0) (1.10.7)\n",
            "Requirement already satisfied: packaging>=20.0 in /usr/local/lib/python3.9/dist-packages (from spacy<3.6.0,>=3.5.0->en-core-web-sm==3.5.0) (23.0)\n",
            "Requirement already satisfied: thinc<8.2.0,>=8.1.8 in /usr/local/lib/python3.9/dist-packages (from spacy<3.6.0,>=3.5.0->en-core-web-sm==3.5.0) (8.1.9)\n",
            "Requirement already satisfied: wasabi<1.2.0,>=0.9.1 in /usr/local/lib/python3.9/dist-packages (from spacy<3.6.0,>=3.5.0->en-core-web-sm==3.5.0) (1.1.1)\n",
            "Requirement already satisfied: smart-open<7.0.0,>=5.2.1 in /usr/local/lib/python3.9/dist-packages (from spacy<3.6.0,>=3.5.0->en-core-web-sm==3.5.0) (6.3.0)\n",
            "Requirement already satisfied: srsly<3.0.0,>=2.4.3 in /usr/local/lib/python3.9/dist-packages (from spacy<3.6.0,>=3.5.0->en-core-web-sm==3.5.0) (2.4.6)\n",
            "Requirement already satisfied: tqdm<5.0.0,>=4.38.0 in /usr/local/lib/python3.9/dist-packages (from spacy<3.6.0,>=3.5.0->en-core-web-sm==3.5.0) (4.65.0)\n",
            "Requirement already satisfied: numpy>=1.15.0 in /usr/local/lib/python3.9/dist-packages (from spacy<3.6.0,>=3.5.0->en-core-web-sm==3.5.0) (1.22.4)\n",
            "Requirement already satisfied: catalogue<2.1.0,>=2.0.6 in /usr/local/lib/python3.9/dist-packages (from spacy<3.6.0,>=3.5.0->en-core-web-sm==3.5.0) (2.0.8)\n",
            "Requirement already satisfied: cymem<2.1.0,>=2.0.2 in /usr/local/lib/python3.9/dist-packages (from spacy<3.6.0,>=3.5.0->en-core-web-sm==3.5.0) (2.0.7)\n",
            "Requirement already satisfied: spacy-legacy<3.1.0,>=3.0.11 in /usr/local/lib/python3.9/dist-packages (from spacy<3.6.0,>=3.5.0->en-core-web-sm==3.5.0) (3.0.12)\n",
            "Requirement already satisfied: requests<3.0.0,>=2.13.0 in /usr/local/lib/python3.9/dist-packages (from spacy<3.6.0,>=3.5.0->en-core-web-sm==3.5.0) (2.27.1)\n",
            "Requirement already satisfied: murmurhash<1.1.0,>=0.28.0 in /usr/local/lib/python3.9/dist-packages (from spacy<3.6.0,>=3.5.0->en-core-web-sm==3.5.0) (1.0.9)\n",
            "Requirement already satisfied: jinja2 in /usr/local/lib/python3.9/dist-packages (from spacy<3.6.0,>=3.5.0->en-core-web-sm==3.5.0) (3.1.2)\n",
            "Requirement already satisfied: langcodes<4.0.0,>=3.2.0 in /usr/local/lib/python3.9/dist-packages (from spacy<3.6.0,>=3.5.0->en-core-web-sm==3.5.0) (3.3.0)\n",
            "Requirement already satisfied: setuptools in /usr/local/lib/python3.9/dist-packages (from spacy<3.6.0,>=3.5.0->en-core-web-sm==3.5.0) (67.6.0)\n",
            "Requirement already satisfied: typing-extensions>=4.2.0 in /usr/local/lib/python3.9/dist-packages (from pydantic!=1.8,!=1.8.1,<1.11.0,>=1.7.4->spacy<3.6.0,>=3.5.0->en-core-web-sm==3.5.0) (4.5.0)\n",
            "Requirement already satisfied: idna<4,>=2.5 in /usr/local/lib/python3.9/dist-packages (from requests<3.0.0,>=2.13.0->spacy<3.6.0,>=3.5.0->en-core-web-sm==3.5.0) (3.4)\n",
            "Requirement already satisfied: charset-normalizer~=2.0.0 in /usr/local/lib/python3.9/dist-packages (from requests<3.0.0,>=2.13.0->spacy<3.6.0,>=3.5.0->en-core-web-sm==3.5.0) (2.0.12)\n",
            "Requirement already satisfied: certifi>=2017.4.17 in /usr/local/lib/python3.9/dist-packages (from requests<3.0.0,>=2.13.0->spacy<3.6.0,>=3.5.0->en-core-web-sm==3.5.0) (2022.12.7)\n",
            "Requirement already satisfied: urllib3<1.27,>=1.21.1 in /usr/local/lib/python3.9/dist-packages (from requests<3.0.0,>=2.13.0->spacy<3.6.0,>=3.5.0->en-core-web-sm==3.5.0) (1.26.15)\n",
            "Requirement already satisfied: confection<1.0.0,>=0.0.1 in /usr/local/lib/python3.9/dist-packages (from thinc<8.2.0,>=8.1.8->spacy<3.6.0,>=3.5.0->en-core-web-sm==3.5.0) (0.0.4)\n",
            "Requirement already satisfied: blis<0.8.0,>=0.7.8 in /usr/local/lib/python3.9/dist-packages (from thinc<8.2.0,>=8.1.8->spacy<3.6.0,>=3.5.0->en-core-web-sm==3.5.0) (0.7.9)\n",
            "Requirement already satisfied: click<9.0.0,>=7.1.1 in /usr/local/lib/python3.9/dist-packages (from typer<0.8.0,>=0.3.0->spacy<3.6.0,>=3.5.0->en-core-web-sm==3.5.0) (8.1.3)\n",
            "Requirement already satisfied: MarkupSafe>=2.0 in /usr/local/lib/python3.9/dist-packages (from jinja2->spacy<3.6.0,>=3.5.0->en-core-web-sm==3.5.0) (2.1.2)\n",
            "\u001b[38;5;2m✔ Download and installation successful\u001b[0m\n",
            "You can now load the package via spacy.load('en_core_web_sm')\n"
          ]
        },
        {
          "output_type": "stream",
          "name": "stderr",
          "text": [
            "/usr/local/lib/python3.9/dist-packages/torch/cuda/__init__.py:497: UserWarning: Can't initialize NVML\n",
            "  warnings.warn(\"Can't initialize NVML\")\n"
          ]
        }
      ],
      "source": [
        "!pip install -U spacy\n",
        "!python -m spacy download en_core_web_sm\n",
        "\n",
        "import spacy\n",
        "from spacy.lang.en.stop_words import STOP_WORDS\n",
        "from string import punctuation"
      ]
    },
    {
      "cell_type": "code",
      "source": [
        "text = input(\"Give the text which you want to summarize \")\n"
      ],
      "metadata": {
        "id": "NHvEAkhwMj-x",
        "colab": {
          "base_uri": "https://localhost:8080/"
        },
        "outputId": "4cd24a59-74c4-43ed-9fa6-64315874e53a"
      },
      "execution_count": 21,
      "outputs": [
        {
          "name": "stdout",
          "output_type": "stream",
          "text": [
            "Give the text which you want to summarize Alzheimer’s disease progressive mental deterioration that can occur in middle  or old age, due to generalized degeneration of the brain. It is the commonest cause  of premature senility. It is currently ranked as the sixth leading cause of death in the  United States, but recent estimates indicate that the disorder may rank third, just  behind heart disease and cancer, as a cause of death for older people.  The causes of dementia can vary, depending on the types of brain changes  that may be taking place. Other dementias include Lewy body dementia, front  temporal disorders, and vascular dementia. It is common for people to have mixed  dementia - a combination of two or more types of dementia. Alzheimer’s is the most  common cause of dementia among older adults..'''\n"
          ]
        }
      ]
    },
    {
      "cell_type": "code",
      "source": [
        "# List of stop words\n",
        "stopwords = list( STOP_WORDS)\n",
        "stopwords"
      ],
      "metadata": {
        "colab": {
          "base_uri": "https://localhost:8080/"
        },
        "id": "peNX0Oo_Mz3O",
        "outputId": "4f326a7e-69b2-428d-9cd9-3d06f44ac3fa"
      },
      "execution_count": 22,
      "outputs": [
        {
          "output_type": "execute_result",
          "data": {
            "text/plain": [
              "['became',\n",
              " 'twelve',\n",
              " 'above',\n",
              " 'after',\n",
              " 'please',\n",
              " 'between',\n",
              " 'done',\n",
              " 'a',\n",
              " 'under',\n",
              " '‘d',\n",
              " 'again',\n",
              " \"'d\",\n",
              " 'or',\n",
              " 'no',\n",
              " 'by',\n",
              " 'thereafter',\n",
              " 'further',\n",
              " 'could',\n",
              " 'however',\n",
              " 'another',\n",
              " 'almost',\n",
              " 'four',\n",
              " 'thru',\n",
              " 'something',\n",
              " 'throughout',\n",
              " 'whose',\n",
              " 'unless',\n",
              " 'which',\n",
              " 'see',\n",
              " 'keep',\n",
              " 'empty',\n",
              " 'it',\n",
              " 'toward',\n",
              " '‘ll',\n",
              " 'meanwhile',\n",
              " 'via',\n",
              " 'on',\n",
              " 'hers',\n",
              " 'though',\n",
              " 'others',\n",
              " 'bottom',\n",
              " 'forty',\n",
              " 'for',\n",
              " 'you',\n",
              " 'across',\n",
              " 'latterly',\n",
              " 'besides',\n",
              " 'yourselves',\n",
              " 'behind',\n",
              " 'someone',\n",
              " '’re',\n",
              " 'thereby',\n",
              " '’s',\n",
              " 'get',\n",
              " 'out',\n",
              " 'down',\n",
              " 'might',\n",
              " 'at',\n",
              " 'make',\n",
              " 'nothing',\n",
              " 'themselves',\n",
              " 'whereafter',\n",
              " 'give',\n",
              " 'here',\n",
              " 'as',\n",
              " 'that',\n",
              " 'is',\n",
              " 'several',\n",
              " 'he',\n",
              " \"'re\",\n",
              " 'itself',\n",
              " 'often',\n",
              " 'namely',\n",
              " 'against',\n",
              " 'still',\n",
              " 'whence',\n",
              " 'seemed',\n",
              " 'put',\n",
              " 'me',\n",
              " 'her',\n",
              " 'third',\n",
              " 'regarding',\n",
              " 'nobody',\n",
              " 'why',\n",
              " 'anyway',\n",
              " 'our',\n",
              " 'name',\n",
              " 'then',\n",
              " 'go',\n",
              " 'anyone',\n",
              " 'us',\n",
              " 'thereupon',\n",
              " 'these',\n",
              " 'last',\n",
              " 'than',\n",
              " 'be',\n",
              " 'ca',\n",
              " 'eleven',\n",
              " 'none',\n",
              " 'your',\n",
              " 'towards',\n",
              " 'amount',\n",
              " 'being',\n",
              " 'already',\n",
              " 'whoever',\n",
              " '’ve',\n",
              " 'are',\n",
              " 'cannot',\n",
              " 'had',\n",
              " 'until',\n",
              " '‘s',\n",
              " 'less',\n",
              " 'back',\n",
              " 'its',\n",
              " 'fifty',\n",
              " 'does',\n",
              " 'such',\n",
              " '’ll',\n",
              " 'beside',\n",
              " 'around',\n",
              " 'some',\n",
              " 'sometime',\n",
              " 'whom',\n",
              " 'should',\n",
              " 'who',\n",
              " 'onto',\n",
              " 'one',\n",
              " 'own',\n",
              " 'somewhere',\n",
              " 'first',\n",
              " 'yourself',\n",
              " 'ours',\n",
              " 'over',\n",
              " 'their',\n",
              " 'afterwards',\n",
              " 'alone',\n",
              " 'myself',\n",
              " 'used',\n",
              " 'noone',\n",
              " 'off',\n",
              " 'and',\n",
              " 'what',\n",
              " 'front',\n",
              " 'whereas',\n",
              " 'to',\n",
              " 'eight',\n",
              " 'thus',\n",
              " 'was',\n",
              " 'most',\n",
              " 'much',\n",
              " 'along',\n",
              " 'whereby',\n",
              " 'have',\n",
              " 'mine',\n",
              " '’m',\n",
              " 'once',\n",
              " 'neither',\n",
              " 'six',\n",
              " 'if',\n",
              " 'perhaps',\n",
              " 'without',\n",
              " 'hundred',\n",
              " 'those',\n",
              " 'whole',\n",
              " 'doing',\n",
              " 'call',\n",
              " 'herself',\n",
              " 'rather',\n",
              " 'in',\n",
              " 'did',\n",
              " 'full',\n",
              " 'quite',\n",
              " 'there',\n",
              " 'very',\n",
              " 'she',\n",
              " 'both',\n",
              " 'the',\n",
              " 'amongst',\n",
              " 'from',\n",
              " 'whatever',\n",
              " 'everything',\n",
              " 'herein',\n",
              " 'only',\n",
              " 'below',\n",
              " '‘re',\n",
              " 'him',\n",
              " 'least',\n",
              " 'since',\n",
              " 'say',\n",
              " 'seeming',\n",
              " 'must',\n",
              " 're',\n",
              " 'three',\n",
              " 'everywhere',\n",
              " 'anywhere',\n",
              " 'about',\n",
              " 'will',\n",
              " 'becomes',\n",
              " 'nevertheless',\n",
              " 'everyone',\n",
              " 'show',\n",
              " 'using',\n",
              " 'become',\n",
              " 'well',\n",
              " 'wherein',\n",
              " 'more',\n",
              " 'else',\n",
              " 'within',\n",
              " 'yours',\n",
              " 'his',\n",
              " 'therein',\n",
              " 'due',\n",
              " 'per',\n",
              " 'together',\n",
              " 'formerly',\n",
              " 'whether',\n",
              " 'many',\n",
              " 'either',\n",
              " 'never',\n",
              " 'anything',\n",
              " 'during',\n",
              " 'while',\n",
              " 'take',\n",
              " 'just',\n",
              " 'made',\n",
              " \"'ll\",\n",
              " \"'ve\",\n",
              " 'nowhere',\n",
              " 'too',\n",
              " 'were',\n",
              " 'how',\n",
              " 'can',\n",
              " 'elsewhere',\n",
              " 'into',\n",
              " 'fifteen',\n",
              " 'even',\n",
              " 'with',\n",
              " 'therefore',\n",
              " 'any',\n",
              " 'am',\n",
              " 'always',\n",
              " 'beforehand',\n",
              " 'ourselves',\n",
              " 'hence',\n",
              " 'they',\n",
              " 'sometimes',\n",
              " 'upon',\n",
              " '‘m',\n",
              " 'nor',\n",
              " 'wherever',\n",
              " 'move',\n",
              " 'has',\n",
              " 'up',\n",
              " 'hereupon',\n",
              " 'although',\n",
              " 'this',\n",
              " 'twenty',\n",
              " 'whereupon',\n",
              " 'because',\n",
              " 'enough',\n",
              " 'them',\n",
              " 'seem',\n",
              " 'n‘t',\n",
              " \"n't\",\n",
              " 'would',\n",
              " 'somehow',\n",
              " 'himself',\n",
              " 'each',\n",
              " 'side',\n",
              " 'hereafter',\n",
              " 'ten',\n",
              " 'we',\n",
              " '‘ve',\n",
              " 'before',\n",
              " 'been',\n",
              " 'seems',\n",
              " 'other',\n",
              " 'whither',\n",
              " 'really',\n",
              " 'i',\n",
              " 'anyhow',\n",
              " 'top',\n",
              " 'nine',\n",
              " 'whenever',\n",
              " 'serious',\n",
              " 'among',\n",
              " 'mostly',\n",
              " 'when',\n",
              " 'may',\n",
              " 'but',\n",
              " 'moreover',\n",
              " 'becoming',\n",
              " 'all',\n",
              " 'of',\n",
              " 'latter',\n",
              " '’d',\n",
              " 'two',\n",
              " 'part',\n",
              " 'not',\n",
              " 'through',\n",
              " 'former',\n",
              " 'otherwise',\n",
              " 'next',\n",
              " 'now',\n",
              " 'every',\n",
              " 'ever',\n",
              " 'five',\n",
              " 'indeed',\n",
              " 'hereby',\n",
              " 'do',\n",
              " 'sixty',\n",
              " 'few',\n",
              " 'same',\n",
              " 'so',\n",
              " 'yet',\n",
              " 'where',\n",
              " 'also',\n",
              " 'except',\n",
              " 'thence',\n",
              " 'various',\n",
              " 'an',\n",
              " 'beyond',\n",
              " \"'s\",\n",
              " 'my',\n",
              " 'n’t',\n",
              " \"'m\"]"
            ]
          },
          "metadata": {},
          "execution_count": 22
        }
      ]
    },
    {
      "cell_type": "code",
      "source": [
        "# pass document into spacy and store in \"doc\" object\n",
        "nlp = spacy.load('en_core_web_sm')\n",
        "doc = nlp(text)"
      ],
      "metadata": {
        "id": "nWZx05e3M24s"
      },
      "execution_count": 23,
      "outputs": []
    },
    {
      "cell_type": "code",
      "source": [
        "tokens = [token.text for token in doc]\n",
        "print(tokens)"
      ],
      "metadata": {
        "colab": {
          "base_uri": "https://localhost:8080/"
        },
        "id": "vltf7a3wM6jN",
        "outputId": "2ee8e82c-d048-442b-ffa4-d7ddd11b21f4"
      },
      "execution_count": 24,
      "outputs": [
        {
          "output_type": "stream",
          "name": "stdout",
          "text": [
            "['Alzheimer', '’s', 'disease', 'progressive', 'mental', 'deterioration', 'that', 'can', 'occur', 'in', 'middle', ' ', 'or', 'old', 'age', ',', 'due', 'to', 'generalized', 'degeneration', 'of', 'the', 'brain', '.', 'It', 'is', 'the', 'commonest', 'cause', ' ', 'of', 'premature', 'senility', '.', 'It', 'is', 'currently', 'ranked', 'as', 'the', 'sixth', 'leading', 'cause', 'of', 'death', 'in', 'the', ' ', 'United', 'States', ',', 'but', 'recent', 'estimates', 'indicate', 'that', 'the', 'disorder', 'may', 'rank', 'third', ',', 'just', ' ', 'behind', 'heart', 'disease', 'and', 'cancer', ',', 'as', 'a', 'cause', 'of', 'death', 'for', 'older', 'people', '.', ' ', 'The', 'causes', 'of', 'dementia', 'can', 'vary', ',', 'depending', 'on', 'the', 'types', 'of', 'brain', 'changes', ' ', 'that', 'may', 'be', 'taking', 'place', '.', 'Other', 'dementias', 'include', 'Lewy', 'body', 'dementia', ',', 'front', ' ', 'temporal', 'disorders', ',', 'and', 'vascular', 'dementia', '.', 'It', 'is', 'common', 'for', 'people', 'to', 'have', 'mixed', ' ', 'dementia', '-', 'a', 'combination', 'of', 'two', 'or', 'more', 'types', 'of', 'dementia', '.', 'Alzheimer', '’s', 'is', 'the', 'most', ' ', 'common', 'cause', 'of', 'dementia', 'among', 'older', 'adults', '..', \"''\", \"'\"]\n"
          ]
        }
      ]
    },
    {
      "cell_type": "code",
      "source": [
        "# add \\n to the punchuvation list\n",
        "punctuation = punctuation + '\\n' + '\\n\\n'\n",
        "punctuation"
      ],
      "metadata": {
        "colab": {
          "base_uri": "https://localhost:8080/",
          "height": 36
        },
        "id": "qYFim1MmM9VJ",
        "outputId": "a544dbda-e50a-4264-e9d2-8f251c463deb"
      },
      "execution_count": 25,
      "outputs": [
        {
          "output_type": "execute_result",
          "data": {
            "text/plain": [
              "'!\"#$%&\\'()*+,-./:;<=>?@[\\\\]^_`{|}~\\n\\n\\n\\n\\n\\n'"
            ],
            "application/vnd.google.colaboratory.intrinsic+json": {
              "type": "string"
            }
          },
          "metadata": {},
          "execution_count": 25
        }
      ]
    },
    {
      "cell_type": "code",
      "source": [
        "word_frequencies = {}                       \n",
        "for word in doc:\n",
        "    if word.text.lower() not in stopwords:\n",
        "        if word.text.lower() not in punctuation:\n",
        "            if word.text not in word_frequencies.keys():   \n",
        "                word_frequencies[word.text] = 1\n",
        "            else:\n",
        "                word_frequencies[word.text] +=1\n",
        "print(word_frequencies)"
      ],
      "metadata": {
        "colab": {
          "base_uri": "https://localhost:8080/"
        },
        "id": "8VRIBg2kNAEX",
        "outputId": "afd111dc-d87a-49b1-bc48-803fcff47ffa"
      },
      "execution_count": 26,
      "outputs": [
        {
          "output_type": "stream",
          "name": "stdout",
          "text": [
            "{'Alzheimer': 2, 'disease': 2, 'progressive': 1, 'mental': 1, 'deterioration': 1, 'occur': 1, 'middle': 1, ' ': 9, 'old': 1, 'age': 1, 'generalized': 1, 'degeneration': 1, 'brain': 2, 'commonest': 1, 'cause': 4, 'premature': 1, 'senility': 1, 'currently': 1, 'ranked': 1, 'sixth': 1, 'leading': 1, 'death': 2, 'United': 1, 'States': 1, 'recent': 1, 'estimates': 1, 'indicate': 1, 'disorder': 1, 'rank': 1, 'heart': 1, 'cancer': 1, 'older': 2, 'people': 2, 'causes': 1, 'dementia': 6, 'vary': 1, 'depending': 1, 'types': 2, 'changes': 1, 'taking': 1, 'place': 1, 'dementias': 1, 'include': 1, 'Lewy': 1, 'body': 1, 'temporal': 1, 'disorders': 1, 'vascular': 1, 'common': 2, 'mixed': 1, 'combination': 1, 'adults': 1, '..': 1, \"''\": 1}\n"
          ]
        }
      ]
    },
    {
      "cell_type": "code",
      "source": [
        "max_frequcncy = max(word_frequencies.values())\n"
      ],
      "metadata": {
        "id": "HmlvKGZcNCfN"
      },
      "execution_count": 27,
      "outputs": []
    },
    {
      "cell_type": "code",
      "source": [
        "# Maximum repeated word in the document seemd  - data\n",
        "max_frequcncy"
      ],
      "metadata": {
        "colab": {
          "base_uri": "https://localhost:8080/"
        },
        "id": "MWrRjbJlNKdm",
        "outputId": "aaacfbca-4712-4b51-dee2-c8cb2014487d"
      },
      "execution_count": 28,
      "outputs": [
        {
          "output_type": "execute_result",
          "data": {
            "text/plain": [
              "9"
            ]
          },
          "metadata": {},
          "execution_count": 28
        }
      ]
    },
    {
      "cell_type": "code",
      "source": [
        "# Normalize the word frencies\n",
        "for word in word_frequencies.keys():\n",
        "    word_frequencies[word] = word_frequencies[word]/max_frequcncy"
      ],
      "metadata": {
        "id": "89lCWS0lNNIt"
      },
      "execution_count": 29,
      "outputs": []
    },
    {
      "cell_type": "code",
      "source": [
        "print(word_frequencies)\n"
      ],
      "metadata": {
        "colab": {
          "base_uri": "https://localhost:8080/"
        },
        "id": "126J3Jp6NP6B",
        "outputId": "d0a0d6ea-2c48-4d81-af93-e4ec8bae5bda"
      },
      "execution_count": 30,
      "outputs": [
        {
          "output_type": "stream",
          "name": "stdout",
          "text": [
            "{'Alzheimer': 0.2222222222222222, 'disease': 0.2222222222222222, 'progressive': 0.1111111111111111, 'mental': 0.1111111111111111, 'deterioration': 0.1111111111111111, 'occur': 0.1111111111111111, 'middle': 0.1111111111111111, ' ': 1.0, 'old': 0.1111111111111111, 'age': 0.1111111111111111, 'generalized': 0.1111111111111111, 'degeneration': 0.1111111111111111, 'brain': 0.2222222222222222, 'commonest': 0.1111111111111111, 'cause': 0.4444444444444444, 'premature': 0.1111111111111111, 'senility': 0.1111111111111111, 'currently': 0.1111111111111111, 'ranked': 0.1111111111111111, 'sixth': 0.1111111111111111, 'leading': 0.1111111111111111, 'death': 0.2222222222222222, 'United': 0.1111111111111111, 'States': 0.1111111111111111, 'recent': 0.1111111111111111, 'estimates': 0.1111111111111111, 'indicate': 0.1111111111111111, 'disorder': 0.1111111111111111, 'rank': 0.1111111111111111, 'heart': 0.1111111111111111, 'cancer': 0.1111111111111111, 'older': 0.2222222222222222, 'people': 0.2222222222222222, 'causes': 0.1111111111111111, 'dementia': 0.6666666666666666, 'vary': 0.1111111111111111, 'depending': 0.1111111111111111, 'types': 0.2222222222222222, 'changes': 0.1111111111111111, 'taking': 0.1111111111111111, 'place': 0.1111111111111111, 'dementias': 0.1111111111111111, 'include': 0.1111111111111111, 'Lewy': 0.1111111111111111, 'body': 0.1111111111111111, 'temporal': 0.1111111111111111, 'disorders': 0.1111111111111111, 'vascular': 0.1111111111111111, 'common': 0.2222222222222222, 'mixed': 0.1111111111111111, 'combination': 0.1111111111111111, 'adults': 0.1111111111111111, '..': 0.1111111111111111, \"''\": 0.1111111111111111}\n"
          ]
        }
      ]
    },
    {
      "cell_type": "code",
      "source": [
        "sentence_tokens = [sent for sent in doc.sents]\n",
        "print(sentence_tokens)"
      ],
      "metadata": {
        "colab": {
          "base_uri": "https://localhost:8080/"
        },
        "id": "2-9qOfcJNSMQ",
        "outputId": "5e8426c5-c027-4129-bc76-26f1f9fb2827"
      },
      "execution_count": 31,
      "outputs": [
        {
          "output_type": "stream",
          "name": "stdout",
          "text": [
            "[Alzheimer’s disease progressive mental deterioration that can occur in middle  or old age, due to generalized degeneration of the brain., It is the commonest cause  of premature senility., It is currently ranked as the sixth leading cause of death in the  United States, but recent estimates indicate that the disorder may rank third, just  behind heart disease and cancer, as a cause of death for older people.  , The causes of dementia can vary, depending on the types of brain changes  that may be taking place., Other dementias include Lewy body dementia, front  temporal disorders, and vascular dementia., It is common for people to have mixed  dementia - a combination of two or more types of dementia., Alzheimer’s is the most  common cause of dementia among older adults..''']\n"
          ]
        }
      ]
    },
    {
      "cell_type": "code",
      "source": [
        "sentence_scores = {}                                            \n",
        "for sent in sentence_tokens:\n",
        "    for word in sent:\n",
        "        if word.text.lower() in word_frequencies.keys():        \n",
        "            if sent not in sentence_scores.keys():              \n",
        "                sentence_scores[sent] = word_frequencies[word.text.lower()]\n",
        "            else:\n",
        "                sentence_scores[sent] += word_frequencies[word.text.lower()]\n",
        "sentence_scores  "
      ],
      "metadata": {
        "colab": {
          "base_uri": "https://localhost:8080/"
        },
        "id": "Ute8p6rjNU5x",
        "outputId": "4ba52c15-3ff1-48d1-fda7-47dc4d4934ca"
      },
      "execution_count": 32,
      "outputs": [
        {
          "output_type": "execute_result",
          "data": {
            "text/plain": [
              "{Alzheimer’s disease progressive mental deterioration that can occur in middle  or old age, due to generalized degeneration of the brain.: 2.4444444444444446,\n",
              " It is the commonest cause  of premature senility.: 1.777777777777778,\n",
              " It is currently ranked as the sixth leading cause of death in the  United States, but recent estimates indicate that the disorder may rank third, just  behind heart disease and cancer, as a cause of death for older people.  : 6.222222222222222,\n",
              " The causes of dementia can vary, depending on the types of brain changes  that may be taking place.: 2.777777777777778,\n",
              " Other dementias include Lewy body dementia, front  temporal disorders, and vascular dementia.: 3.0,\n",
              " It is common for people to have mixed  dementia - a combination of two or more types of dementia.: 3.2222222222222223,\n",
              " Alzheimer’s is the most  common cause of dementia among older adults..''': 2.8888888888888893}"
            ]
          },
          "metadata": {},
          "execution_count": 32
        }
      ]
    },
    {
      "cell_type": "code",
      "source": [
        "# Can tweek percentage\n",
        "# Get 30% of important sentences with maximum score - using nlargest\n",
        "from heapq import nlargest\n",
        "select_length = int(len(sentence_tokens)*0.3)\n",
        "select_length"
      ],
      "metadata": {
        "colab": {
          "base_uri": "https://localhost:8080/"
        },
        "id": "4vXi3dQUNXs_",
        "outputId": "473586f1-db8a-4bd4-8463-3a32b8b761d5"
      },
      "execution_count": 33,
      "outputs": [
        {
          "output_type": "execute_result",
          "data": {
            "text/plain": [
              "2"
            ]
          },
          "metadata": {},
          "execution_count": 33
        }
      ]
    },
    {
      "cell_type": "code",
      "source": [
        "summary = nlargest(select_length , sentence_scores , key = sentence_scores.get)\n",
        "summary "
      ],
      "metadata": {
        "colab": {
          "base_uri": "https://localhost:8080/"
        },
        "id": "9SSrg_FnNfPZ",
        "outputId": "c9b717e9-7630-4138-beb6-25e0f8adc5db"
      },
      "execution_count": 34,
      "outputs": [
        {
          "output_type": "execute_result",
          "data": {
            "text/plain": [
              "[It is currently ranked as the sixth leading cause of death in the  United States, but recent estimates indicate that the disorder may rank third, just  behind heart disease and cancer, as a cause of death for older people.  ,\n",
              " It is common for people to have mixed  dementia - a combination of two or more types of dementia.]"
            ]
          },
          "metadata": {},
          "execution_count": 34
        }
      ]
    },
    {
      "cell_type": "code",
      "source": [
        "final_summary = [word.text for word in summary]\n",
        "final_summary "
      ],
      "metadata": {
        "colab": {
          "base_uri": "https://localhost:8080/"
        },
        "id": "rSIPhu7bNhmx",
        "outputId": "f2a25353-8b95-4462-bbed-8bacc372383d"
      },
      "execution_count": 35,
      "outputs": [
        {
          "output_type": "execute_result",
          "data": {
            "text/plain": [
              "['It is currently ranked as the sixth leading cause of death in the  United States, but recent estimates indicate that the disorder may rank third, just  behind heart disease and cancer, as a cause of death for older people.  ',\n",
              " 'It is common for people to have mixed  dementia - a combination of two or more types of dementia.']"
            ]
          },
          "metadata": {},
          "execution_count": 35
        }
      ]
    },
    {
      "cell_type": "code",
      "source": [
        "len(final_summary)\n"
      ],
      "metadata": {
        "colab": {
          "base_uri": "https://localhost:8080/"
        },
        "id": "Hd_FYnLfNk_A",
        "outputId": "eda94136-0367-4ba5-b357-c0d96170f9a9"
      },
      "execution_count": 36,
      "outputs": [
        {
          "output_type": "execute_result",
          "data": {
            "text/plain": [
              "2"
            ]
          },
          "metadata": {},
          "execution_count": 36
        }
      ]
    },
    {
      "cell_type": "code",
      "source": [
        "#combining above 4 lines togeather to from a summary\n",
        "summary = ' ' .join(final_summary)"
      ],
      "metadata": {
        "id": "ElcgWrtxNnk0"
      },
      "execution_count": 37,
      "outputs": []
    },
    {
      "cell_type": "code",
      "source": [
        "summary\n"
      ],
      "metadata": {
        "colab": {
          "base_uri": "https://localhost:8080/",
          "height": 53
        },
        "id": "_L9Vvf35Nqlu",
        "outputId": "13a17167-3ac0-4408-c8bc-6d789d153e8e"
      },
      "execution_count": 38,
      "outputs": [
        {
          "output_type": "execute_result",
          "data": {
            "text/plain": [
              "'It is currently ranked as the sixth leading cause of death in the  United States, but recent estimates indicate that the disorder may rank third, just  behind heart disease and cancer, as a cause of death for older people.   It is common for people to have mixed  dementia - a combination of two or more types of dementia.'"
            ],
            "application/vnd.google.colaboratory.intrinsic+json": {
              "type": "string"
            }
          },
          "metadata": {},
          "execution_count": 38
        }
      ]
    },
    {
      "cell_type": "code",
      "source": [
        "print(\"length of original text:\",len(text))\n",
        "print(\"length of autosummarization text\",len(summary))\n"
      ],
      "metadata": {
        "colab": {
          "base_uri": "https://localhost:8080/"
        },
        "id": "XFpcEHmfNsfZ",
        "outputId": "cc6b1062-9121-445c-f32c-ed3abf77b26b"
      },
      "execution_count": 39,
      "outputs": [
        {
          "output_type": "stream",
          "name": "stdout",
          "text": [
            "length of original text: 776\n",
            "length of autosummarization text 322\n"
          ]
        }
      ]
    },
    {
      "cell_type": "code",
      "source": [],
      "metadata": {
        "id": "hUKYal2AtkGm"
      },
      "execution_count": null,
      "outputs": []
    }
  ]
}